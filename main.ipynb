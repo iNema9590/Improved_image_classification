{
 "cells": [
  {
   "cell_type": "markdown",
   "metadata": {},
   "source": [
    "## DNN and CNN for Image processing and clasification"
   ]
  },
  {
   "cell_type": "code",
   "execution_count": 1,
   "metadata": {},
   "outputs": [],
   "source": [
    "import numpy as np\n",
    "import pandas as pd\n",
    "import matplotlib as mpl\n",
    "%matplotlib inline\n",
    "import matplotlib.pyplot as plt\n",
    "import os"
   ]
  },
  {
   "cell_type": "code",
   "execution_count": 2,
   "metadata": {},
   "outputs": [],
   "source": [
    "train_dir = r'C:\\Users\\Ikhityor\\Desktop\\My_Projects\\Image processing\\cats_and_dogs_small\\train'\n",
    "validation_dir = r'C:\\Users\\Ikhityor\\Desktop\\My_Projects\\Image processing\\cats_and_dogs_small\\validation'\n",
    "test_dir = r'C:\\Users\\Ikhityor\\Desktop\\My_Projects\\Image processing\\cats_and_dogs_small\\test'"
   ]
  },
  {
   "cell_type": "code",
   "execution_count": 3,
   "metadata": {},
   "outputs": [],
   "source": [
    "import tensorflow as tf\n",
    "from tensorflow import keras"
   ]
  },
  {
   "cell_type": "code",
   "execution_count": 4,
   "metadata": {},
   "outputs": [],
   "source": [
    "from tensorflow.keras.preprocessing.image import ImageDataGenerator"
   ]
  },
  {
   "cell_type": "code",
   "execution_count": 26,
   "metadata": {},
   "outputs": [
    {
     "name": "stdout",
     "output_type": "stream",
     "text": [
      "Found 2000 images belonging to 2 classes.\n",
      "Found 1000 images belonging to 2 classes.\n"
     ]
    }
   ],
   "source": [
    "# Generating batches of tensor image data\n",
    "\n",
    "train_datagen= ImageDataGenerator(rescale=1./255)\n",
    "test_datagen= ImageDataGenerator(rescale=1./255)\n",
    "\n",
    "train_generator = train_datagen.flow_from_directory(\n",
    "        train_dir,\n",
    "        target_size= (150, 150),\n",
    "        batch_size= 20,\n",
    "        class_mode='binary')\n",
    "\n",
    "validation_generator = test_datagen.flow_from_directory(\n",
    "        validation_dir,\n",
    "        target_size= (150, 150),\n",
    "        batch_size= 20,\n",
    "        class_mode='binary')\n"
   ]
  },
  {
   "cell_type": "code",
   "execution_count": 5,
   "metadata": {},
   "outputs": [],
   "source": [
    "from tensorflow.keras import layers\n",
    "from tensorflow.keras import models"
   ]
  },
  {
   "cell_type": "code",
   "execution_count": 27,
   "metadata": {},
   "outputs": [],
   "source": [
    "model= models.Sequential()\n",
    "\n",
    "model.add(layers.Conv2D(32, (3, 3), activation='relu', input_shape= (150, 150, 3)))\n",
    "model.add(layers.MaxPooling2D((2, 2)))\n",
    "\n",
    "model.add(layers.Conv2D(64, (3, 3), activation='relu'))\n",
    "model.add(layers.MaxPooling2D((2, 2)))\n",
    "\n",
    "model.add(layers.Conv2D(128, (3, 3), activation='relu'))\n",
    "model.add(layers.MaxPooling2D((2, 2)))\n",
    "\n",
    "model.add(layers.Conv2D(128, (3, 3), activation='relu'))\n",
    "model.add(layers.MaxPooling2D((2, 2)))\n",
    "\n",
    "model.add(layers.Flatten())\n",
    "\n",
    "model.add(layers.Dense(512, activation='relu'))\n",
    "model.add(layers.Dense(1, activation='sigmoid'))\n"
   ]
  },
  {
   "cell_type": "code",
   "execution_count": 28,
   "metadata": {},
   "outputs": [
    {
     "name": "stdout",
     "output_type": "stream",
     "text": [
      "Model: \"sequential_1\"\n",
      "_________________________________________________________________\n",
      "Layer (type)                 Output Shape              Param #   \n",
      "=================================================================\n",
      "conv2d_4 (Conv2D)            (None, 148, 148, 32)      896       \n",
      "_________________________________________________________________\n",
      "max_pooling2d_4 (MaxPooling2 (None, 74, 74, 32)        0         \n",
      "_________________________________________________________________\n",
      "conv2d_5 (Conv2D)            (None, 72, 72, 64)        18496     \n",
      "_________________________________________________________________\n",
      "max_pooling2d_5 (MaxPooling2 (None, 36, 36, 64)        0         \n",
      "_________________________________________________________________\n",
      "conv2d_6 (Conv2D)            (None, 34, 34, 128)       73856     \n",
      "_________________________________________________________________\n",
      "max_pooling2d_6 (MaxPooling2 (None, 17, 17, 128)       0         \n",
      "_________________________________________________________________\n",
      "conv2d_7 (Conv2D)            (None, 15, 15, 128)       147584    \n",
      "_________________________________________________________________\n",
      "max_pooling2d_7 (MaxPooling2 (None, 7, 7, 128)         0         \n",
      "_________________________________________________________________\n",
      "flatten_1 (Flatten)          (None, 6272)              0         \n",
      "_________________________________________________________________\n",
      "dense_2 (Dense)              (None, 512)               3211776   \n",
      "_________________________________________________________________\n",
      "dense_3 (Dense)              (None, 1)                 513       \n",
      "=================================================================\n",
      "Total params: 3,453,121\n",
      "Trainable params: 3,453,121\n",
      "Non-trainable params: 0\n",
      "_________________________________________________________________\n"
     ]
    }
   ],
   "source": [
    "model.summary()"
   ]
  },
  {
   "cell_type": "code",
   "execution_count": 29,
   "metadata": {},
   "outputs": [],
   "source": [
    "from tensorflow.keras import optimizers\n",
    "\n",
    "model.compile(loss='binary_crossentropy', optimizer=optimizers.RMSprop(lr=1e-4), metrics=['acc'])"
   ]
  },
  {
   "cell_type": "code",
   "execution_count": 30,
   "metadata": {},
   "outputs": [
    {
     "name": "stdout",
     "output_type": "stream",
     "text": [
      "Epoch 1/100\n",
      "100/100 [==============================] - 14s 142ms/step - loss: 0.6919 - acc: 0.5260 - val_loss: 0.6705 - val_acc: 0.5880\n",
      "Epoch 2/100\n",
      "100/100 [==============================] - 14s 139ms/step - loss: 0.6636 - acc: 0.6055 - val_loss: 0.6450 - val_acc: 0.6410\n",
      "Epoch 3/100\n",
      "100/100 [==============================] - 15s 146ms/step - loss: 0.6149 - acc: 0.6670 - val_loss: 0.6421 - val_acc: 0.6180\n",
      "Epoch 4/100\n",
      "100/100 [==============================] - 14s 137ms/step - loss: 0.5740 - acc: 0.6975 - val_loss: 0.5979 - val_acc: 0.6770\n",
      "Epoch 5/100\n",
      "100/100 [==============================] - 14s 140ms/step - loss: 0.5466 - acc: 0.7240 - val_loss: 0.6043 - val_acc: 0.6700\n",
      "Epoch 6/100\n",
      "100/100 [==============================] - 14s 139ms/step - loss: 0.5273 - acc: 0.7270 - val_loss: 0.5774 - val_acc: 0.6840\n",
      "Epoch 7/100\n",
      "100/100 [==============================] - 14s 142ms/step - loss: 0.4906 - acc: 0.7690 - val_loss: 0.6393 - val_acc: 0.6490\n",
      "Epoch 8/100\n",
      "100/100 [==============================] - 14s 141ms/step - loss: 0.4769 - acc: 0.7730 - val_loss: 0.5547 - val_acc: 0.7190\n",
      "Epoch 9/100\n",
      "100/100 [==============================] - 14s 143ms/step - loss: 0.4576 - acc: 0.7825 - val_loss: 0.5693 - val_acc: 0.7150\n",
      "Epoch 10/100\n",
      "100/100 [==============================] - 14s 144ms/step - loss: 0.4338 - acc: 0.7990 - val_loss: 0.5521 - val_acc: 0.7200\n",
      "Epoch 11/100\n",
      "100/100 [==============================] - 14s 142ms/step - loss: 0.4044 - acc: 0.8210 - val_loss: 0.7044 - val_acc: 0.6720\n",
      "Epoch 12/100\n",
      "100/100 [==============================] - 14s 140ms/step - loss: 0.3854 - acc: 0.8245 - val_loss: 0.5626 - val_acc: 0.7240\n",
      "Epoch 13/100\n",
      "100/100 [==============================] - 14s 141ms/step - loss: 0.3652 - acc: 0.8395 - val_loss: 0.5497 - val_acc: 0.7350\n",
      "Epoch 14/100\n",
      "100/100 [==============================] - 14s 143ms/step - loss: 0.3394 - acc: 0.8570 - val_loss: 0.5470 - val_acc: 0.7420\n",
      "Epoch 15/100\n",
      "100/100 [==============================] - 15s 146ms/step - loss: 0.3182 - acc: 0.8585 - val_loss: 0.5631 - val_acc: 0.7260\n",
      "Epoch 16/100\n",
      "100/100 [==============================] - 14s 142ms/step - loss: 0.2872 - acc: 0.8790 - val_loss: 0.5809 - val_acc: 0.7280\n",
      "Epoch 17/100\n",
      "100/100 [==============================] - 14s 143ms/step - loss: 0.2756 - acc: 0.8940 - val_loss: 0.5757 - val_acc: 0.7440\n",
      "Epoch 18/100\n",
      "100/100 [==============================] - 14s 140ms/step - loss: 0.2582 - acc: 0.8940 - val_loss: 0.6030 - val_acc: 0.7320\n",
      "Epoch 19/100\n",
      "100/100 [==============================] - 14s 141ms/step - loss: 0.2355 - acc: 0.9090 - val_loss: 0.6255 - val_acc: 0.7350\n",
      "Epoch 20/100\n",
      "100/100 [==============================] - 14s 137ms/step - loss: 0.2095 - acc: 0.9215 - val_loss: 0.6657 - val_acc: 0.7260\n",
      "Epoch 21/100\n",
      "100/100 [==============================] - 14s 142ms/step - loss: 0.1923 - acc: 0.9300 - val_loss: 0.6337 - val_acc: 0.7400\n",
      "Epoch 22/100\n",
      "100/100 [==============================] - 14s 142ms/step - loss: 0.1677 - acc: 0.9395 - val_loss: 0.6743 - val_acc: 0.7340\n",
      "Epoch 23/100\n",
      "100/100 [==============================] - 14s 141ms/step - loss: 0.1544 - acc: 0.9500 - val_loss: 0.7156 - val_acc: 0.7270\n",
      "Epoch 24/100\n",
      "100/100 [==============================] - 14s 142ms/step - loss: 0.1352 - acc: 0.9535 - val_loss: 0.7126 - val_acc: 0.7420\n"
     ]
    }
   ],
   "source": [
    "checkpoint_cb = keras.callbacks.ModelCheckpoint(\"early_stop_model.h5\",\n",
    "                                                save_best_only=True)\n",
    "\n",
    "early_stopping_cb = keras.callbacks.EarlyStopping(patience=10,\n",
    "                                                  restore_best_weights=True)\n",
    "\n",
    "history= model.fit_generator(\n",
    "        train_generator,\n",
    "        steps_per_epoch=100,\n",
    "        epochs=100,\n",
    "        validation_data=validation_generator,\n",
    "        validation_steps=50,\n",
    "        callbacks=[checkpoint_cb, early_stopping_cb])"
   ]
  },
  {
   "cell_type": "code",
   "execution_count": 31,
   "metadata": {},
   "outputs": [
    {
     "data": {
      "image/png": "[encoded data removed]",
      "text/plain": [
       "<Figure size 576x360 with 1 Axes>"
      ]
     },
     "metadata": {
      "needs_background": "light"
     },
     "output_type": "display_data"
    }
   ],
   "source": [
    "pd.DataFrame(history.history).plot(figsize=(8,5))\n",
    "plt.grid(True)\n",
    "plt.gca().set_ylim(0,1)\n",
    "plt.show()"
   ]
  },
  {
   "cell_type": "code",
   "execution_count": 25,
   "metadata": {},
   "outputs": [
    {
     "data": {
      "text/plain": [
       "[0.5426420569419861, 0.7450000047683716]"
      ]
     },
     "execution_count": 25,
     "metadata": {},
     "output_type": "execute_result"
    }
   ],
   "source": [
    "model= keras.models.load_model('early_stop_model.h5')\n",
    "model.evaluate_generator(test_generator, steps=50)"
   ]
  },
  {
   "cell_type": "code",
   "execution_count": 12,
   "metadata": {},
   "outputs": [],
   "source": [
    "from tensorflow.keras import backend as K\n",
    "K.clear_session()\n",
    "del model"
   ]
  },
  {
   "cell_type": "markdown",
   "metadata": {},
   "source": [
    "# Data Augmentation"
   ]
  },
  {
   "cell_type": "code",
   "execution_count": 8,
   "metadata": {},
   "outputs": [
    {
     "name": "stdout",
     "output_type": "stream",
     "text": [
      "Found 2000 images belonging to 2 classes.\n",
      "Found 1000 images belonging to 2 classes.\n"
     ]
    }
   ],
   "source": [
    "train_datagen= ImageDataGenerator(rescale=1./255,\n",
    "                                 rotation_range=40,\n",
    "                                 width_shift_range=0.2,\n",
    "                                 height_shift_range=0.2,\n",
    "                                 shear_range=0.2,\n",
    "                                 zoom_range=0.2,\n",
    "                                 horizontal_flip= True,)\n",
    "\n",
    "test_datagen= ImageDataGenerator(rescale=1./255)\n",
    "\n",
    "train_generator = train_datagen.flow_from_directory(\n",
    "        train_dir,\n",
    "        target_size= (150, 150),\n",
    "        batch_size= 20,\n",
    "        class_mode='binary')\n",
    "\n",
    "validation_generator = test_datagen.flow_from_directory(\n",
    "        validation_dir,\n",
    "        target_size= (150, 150),\n",
    "        batch_size= 20,\n",
    "        class_mode='binary')\n"
   ]
  },
  {
   "cell_type": "code",
   "execution_count": 22,
   "metadata": {},
   "outputs": [],
   "source": [
    "model= models.Sequential()\n",
    "\n",
    "model.add(layers.Conv2D(32, (3, 3), activation='relu', input_shape= (150, 150, 3)))\n",
    "model.add(layers.MaxPooling2D((2, 2)))\n",
    "\n",
    "model.add(layers.Conv2D(64, (3, 3), activation='relu'))\n",
    "model.add(layers.MaxPooling2D((2, 2)))\n",
    "\n",
    "model.add(layers.Conv2D(128, (3, 3), activation='relu'))\n",
    "model.add(layers.MaxPooling2D((2, 2)))\n",
    "\n",
    "model.add(layers.Conv2D(128, (3, 3), activation='relu'))\n",
    "model.add(layers.MaxPooling2D((2, 2)))\n",
    "\n",
    "model.add(layers.Flatten())\n",
    "model.add(layers.Dropout(0.5))\n",
    "\n",
    "model.add(layers.Dense(512, activation='relu'))\n",
    "model.add(layers.Dense(1, activation='sigmoid'))\n",
    "\n",
    "\n",
    "model.compile(loss='binary_crossentropy', optimizer=optimizers.RMSprop(lr=1e-4), metrics=['acc'])"
   ]
  },
  {
   "cell_type": "code",
   "execution_count": 23,
   "metadata": {},
   "outputs": [
    {
     "name": "stdout",
     "output_type": "stream",
     "text": [
      "Epoch 1/100\n",
      "100/100 [==============================] - 40s 397ms/step - loss: 0.6946 - acc: 0.5230 - val_loss: 0.6832 - val_acc: 0.5220\n",
      "Epoch 2/100\n",
      "100/100 [==============================] - 40s 397ms/step - loss: 0.6880 - acc: 0.5425 - val_loss: 0.6768 - val_acc: 0.5800\n",
      "Epoch 3/100\n",
      "100/100 [==============================] - 40s 404ms/step - loss: 0.6737 - acc: 0.5770 - val_loss: 0.6693 - val_acc: 0.5720\n",
      "Epoch 4/100\n",
      "100/100 [==============================] - 40s 403ms/step - loss: 0.6672 - acc: 0.5860 - val_loss: 0.6410 - val_acc: 0.6200\n",
      "Epoch 5/100\n",
      "100/100 [==============================] - 40s 405ms/step - loss: 0.6584 - acc: 0.5940 - val_loss: 0.6623 - val_acc: 0.6030\n",
      "Epoch 6/100\n",
      "100/100 [==============================] - 42s 417ms/step - loss: 0.6464 - acc: 0.6165 - val_loss: 0.6164 - val_acc: 0.6580\n",
      "Epoch 7/100\n",
      "100/100 [==============================] - 43s 432ms/step - loss: 0.6326 - acc: 0.6190 - val_loss: 0.6058 - val_acc: 0.6730\n",
      "Epoch 8/100\n",
      "100/100 [==============================] - 42s 418ms/step - loss: 0.6142 - acc: 0.6585 - val_loss: 0.6054 - val_acc: 0.6610\n",
      "Epoch 9/100\n",
      "100/100 [==============================] - 41s 410ms/step - loss: 0.6040 - acc: 0.6695 - val_loss: 0.5660 - val_acc: 0.6900\n",
      "Epoch 10/100\n",
      "100/100 [==============================] - 41s 408ms/step - loss: 0.5917 - acc: 0.6805 - val_loss: 0.5715 - val_acc: 0.6870\n",
      "Epoch 11/100\n",
      "100/100 [==============================] - 42s 422ms/step - loss: 0.5900 - acc: 0.6745 - val_loss: 0.6512 - val_acc: 0.6090\n",
      "Epoch 12/100\n",
      "100/100 [==============================] - 41s 409ms/step - loss: 0.5851 - acc: 0.6820 - val_loss: 0.5463 - val_acc: 0.7220\n",
      "Epoch 13/100\n",
      "100/100 [==============================] - 42s 424ms/step - loss: 0.5756 - acc: 0.6905 - val_loss: 0.5448 - val_acc: 0.7000\n",
      "Epoch 14/100\n",
      "100/100 [==============================] - 41s 409ms/step - loss: 0.5727 - acc: 0.7030 - val_loss: 0.5389 - val_acc: 0.7220\n",
      "Epoch 15/100\n",
      "100/100 [==============================] - 42s 422ms/step - loss: 0.5712 - acc: 0.7090 - val_loss: 0.5590 - val_acc: 0.6990\n",
      "Epoch 16/100\n",
      "100/100 [==============================] - 41s 413ms/step - loss: 0.5658 - acc: 0.7010 - val_loss: 0.5401 - val_acc: 0.7130\n",
      "Epoch 17/100\n",
      "100/100 [==============================] - 42s 418ms/step - loss: 0.5543 - acc: 0.7180 - val_loss: 0.5449 - val_acc: 0.7060\n",
      "Epoch 18/100\n",
      "100/100 [==============================] - 41s 411ms/step - loss: 0.5549 - acc: 0.7090 - val_loss: 0.5684 - val_acc: 0.7190\n",
      "Epoch 19/100\n",
      "100/100 [==============================] - 41s 409ms/step - loss: 0.5544 - acc: 0.7300 - val_loss: 0.5211 - val_acc: 0.7300\n",
      "Epoch 20/100\n",
      "100/100 [==============================] - 40s 404ms/step - loss: 0.5434 - acc: 0.7130 - val_loss: 0.5234 - val_acc: 0.7300\n",
      "Epoch 21/100\n",
      "100/100 [==============================] - 43s 428ms/step - loss: 0.5429 - acc: 0.7180 - val_loss: 0.5255 - val_acc: 0.7290\n",
      "Epoch 22/100\n",
      "100/100 [==============================] - 41s 414ms/step - loss: 0.5478 - acc: 0.7170 - val_loss: 0.5164 - val_acc: 0.7340\n",
      "Epoch 23/100\n",
      "100/100 [==============================] - 41s 411ms/step - loss: 0.5401 - acc: 0.7225 - val_loss: 0.5292 - val_acc: 0.7380\n",
      "Epoch 24/100\n",
      "100/100 [==============================] - 41s 406ms/step - loss: 0.5315 - acc: 0.7355 - val_loss: 0.6024 - val_acc: 0.6920\n",
      "Epoch 25/100\n",
      "100/100 [==============================] - 41s 406ms/step - loss: 0.5354 - acc: 0.7265 - val_loss: 0.4857 - val_acc: 0.7730\n",
      "Epoch 26/100\n",
      "100/100 [==============================] - 40s 403ms/step - loss: 0.5211 - acc: 0.7340 - val_loss: 0.5027 - val_acc: 0.7600\n",
      "Epoch 27/100\n",
      "100/100 [==============================] - 41s 407ms/step - loss: 0.5224 - acc: 0.7340 - val_loss: 0.5418 - val_acc: 0.7190\n",
      "Epoch 28/100\n",
      "100/100 [==============================] - 41s 407ms/step - loss: 0.5292 - acc: 0.7360 - val_loss: 0.4854 - val_acc: 0.7510\n",
      "Epoch 29/100\n",
      "100/100 [==============================] - 43s 434ms/step - loss: 0.5250 - acc: 0.7330 - val_loss: 0.5034 - val_acc: 0.7460\n",
      "Epoch 30/100\n",
      "100/100 [==============================] - 42s 416ms/step - loss: 0.5163 - acc: 0.7530 - val_loss: 0.4729 - val_acc: 0.7700\n",
      "Epoch 31/100\n",
      "100/100 [==============================] - 40s 405ms/step - loss: 0.5079 - acc: 0.7475 - val_loss: 0.5333 - val_acc: 0.7100\n",
      "Epoch 32/100\n",
      "100/100 [==============================] - 41s 406ms/step - loss: 0.5058 - acc: 0.7535 - val_loss: 0.4683 - val_acc: 0.7630\n",
      "Epoch 33/100\n",
      "100/100 [==============================] - 41s 407ms/step - loss: 0.5004 - acc: 0.7555 - val_loss: 0.4779 - val_acc: 0.7650\n",
      "Epoch 34/100\n",
      "100/100 [==============================] - 41s 406ms/step - loss: 0.4954 - acc: 0.7505 - val_loss: 0.5244 - val_acc: 0.7310\n",
      "Epoch 35/100\n",
      "100/100 [==============================] - 43s 427ms/step - loss: 0.4946 - acc: 0.7395 - val_loss: 0.4869 - val_acc: 0.7660\n",
      "Epoch 36/100\n",
      "100/100 [==============================] - 41s 412ms/step - loss: 0.4930 - acc: 0.7680 - val_loss: 0.5197 - val_acc: 0.7410\n",
      "Epoch 37/100\n",
      "100/100 [==============================] - 41s 410ms/step - loss: 0.4906 - acc: 0.7605 - val_loss: 0.4730 - val_acc: 0.7860\n",
      "Epoch 38/100\n",
      "100/100 [==============================] - 41s 412ms/step - loss: 0.4999 - acc: 0.7450 - val_loss: 0.5058 - val_acc: 0.7520\n",
      "Epoch 39/100\n",
      "100/100 [==============================] - 41s 408ms/step - loss: 0.4914 - acc: 0.7585 - val_loss: 0.4632 - val_acc: 0.7780\n",
      "Epoch 40/100\n",
      "100/100 [==============================] - 41s 405ms/step - loss: 0.4814 - acc: 0.7715 - val_loss: 0.4786 - val_acc: 0.7620\n",
      "Epoch 41/100\n",
      "100/100 [==============================] - 41s 406ms/step - loss: 0.4905 - acc: 0.7655 - val_loss: 0.4852 - val_acc: 0.7690\n",
      "Epoch 42/100\n",
      "100/100 [==============================] - 41s 407ms/step - loss: 0.4873 - acc: 0.7625 - val_loss: 0.4841 - val_acc: 0.7550\n",
      "Epoch 43/100\n",
      "100/100 [==============================] - 41s 411ms/step - loss: 0.4915 - acc: 0.7630 - val_loss: 0.4696 - val_acc: 0.7770\n",
      "Epoch 44/100\n",
      "100/100 [==============================] - 41s 411ms/step - loss: 0.4807 - acc: 0.7715 - val_loss: 0.4816 - val_acc: 0.7720\n",
      "Epoch 45/100\n",
      "100/100 [==============================] - 42s 415ms/step - loss: 0.4774 - acc: 0.7680 - val_loss: 0.4423 - val_acc: 0.8010\n",
      "Epoch 46/100\n",
      "100/100 [==============================] - 41s 410ms/step - loss: 0.4781 - acc: 0.7730 - val_loss: 0.4780 - val_acc: 0.7630\n",
      "Epoch 47/100\n",
      "100/100 [==============================] - 41s 413ms/step - loss: 0.4754 - acc: 0.7775 - val_loss: 0.4621 - val_acc: 0.7830\n",
      "Epoch 48/100\n",
      "100/100 [==============================] - 41s 407ms/step - loss: 0.4768 - acc: 0.7770 - val_loss: 0.4535 - val_acc: 0.7780\n",
      "Epoch 49/100\n",
      "100/100 [==============================] - 41s 410ms/step - loss: 0.4603 - acc: 0.7795 - val_loss: 0.5202 - val_acc: 0.7460\n",
      "Epoch 50/100\n",
      "100/100 [==============================] - 41s 408ms/step - loss: 0.4664 - acc: 0.7820 - val_loss: 0.4827 - val_acc: 0.7710\n",
      "Epoch 51/100\n",
      "100/100 [==============================] - 42s 423ms/step - loss: 0.4551 - acc: 0.7890 - val_loss: 0.4781 - val_acc: 0.7830\n",
      "Epoch 52/100\n",
      "100/100 [==============================] - 41s 412ms/step - loss: 0.4603 - acc: 0.7815 - val_loss: 0.4396 - val_acc: 0.7910\n",
      "Epoch 53/100\n",
      "100/100 [==============================] - 41s 413ms/step - loss: 0.4458 - acc: 0.7795 - val_loss: 0.5453 - val_acc: 0.7550\n",
      "Epoch 54/100\n",
      "100/100 [==============================] - 41s 408ms/step - loss: 0.4628 - acc: 0.7890 - val_loss: 0.5175 - val_acc: 0.7330\n",
      "Epoch 55/100\n",
      "100/100 [==============================] - 41s 405ms/step - loss: 0.4502 - acc: 0.7795 - val_loss: 0.5690 - val_acc: 0.7220\n",
      "Epoch 56/100\n",
      "100/100 [==============================] - 41s 411ms/step - loss: 0.4490 - acc: 0.7900 - val_loss: 0.4566 - val_acc: 0.7780\n",
      "Epoch 57/100\n",
      "100/100 [==============================] - 41s 406ms/step - loss: 0.4474 - acc: 0.7865 - val_loss: 0.5835 - val_acc: 0.7450\n",
      "Epoch 58/100\n",
      "100/100 [==============================] - 41s 412ms/step - loss: 0.4422 - acc: 0.7885 - val_loss: 0.4207 - val_acc: 0.8020\n",
      "Epoch 59/100\n",
      "100/100 [==============================] - 41s 407ms/step - loss: 0.4470 - acc: 0.7830 - val_loss: 0.4306 - val_acc: 0.8070\n",
      "Epoch 60/100\n",
      "100/100 [==============================] - 42s 419ms/step - loss: 0.4370 - acc: 0.8005 - val_loss: 0.4320 - val_acc: 0.8030\n"
     ]
    },
    {
     "name": "stdout",
     "output_type": "stream",
     "text": [
      "Epoch 61/100\n",
      "100/100 [==============================] - 41s 406ms/step - loss: 0.4450 - acc: 0.7965 - val_loss: 0.4244 - val_acc: 0.8020\n",
      "Epoch 62/100\n",
      "100/100 [==============================] - 41s 413ms/step - loss: 0.4609 - acc: 0.7785 - val_loss: 0.4364 - val_acc: 0.7860\n",
      "Epoch 63/100\n",
      "100/100 [==============================] - 41s 407ms/step - loss: 0.4438 - acc: 0.7930 - val_loss: 0.4404 - val_acc: 0.7910\n",
      "Epoch 64/100\n",
      "100/100 [==============================] - 41s 409ms/step - loss: 0.4360 - acc: 0.7960 - val_loss: 0.4382 - val_acc: 0.7920\n",
      "Epoch 65/100\n",
      "100/100 [==============================] - 41s 406ms/step - loss: 0.4241 - acc: 0.7995 - val_loss: 0.4623 - val_acc: 0.7780\n",
      "Epoch 66/100\n",
      "100/100 [==============================] - 41s 407ms/step - loss: 0.4354 - acc: 0.7850 - val_loss: 0.4821 - val_acc: 0.7770\n",
      "Epoch 67/100\n",
      "100/100 [==============================] - 41s 408ms/step - loss: 0.4446 - acc: 0.7980 - val_loss: 0.4104 - val_acc: 0.8060\n",
      "Epoch 68/100\n",
      "100/100 [==============================] - 41s 413ms/step - loss: 0.4234 - acc: 0.8080 - val_loss: 0.4353 - val_acc: 0.7980\n",
      "Epoch 69/100\n",
      "100/100 [==============================] - 41s 407ms/step - loss: 0.4334 - acc: 0.7890 - val_loss: 0.5015 - val_acc: 0.7550\n",
      "Epoch 70/100\n",
      "100/100 [==============================] - 41s 407ms/step - loss: 0.4340 - acc: 0.7935 - val_loss: 0.4281 - val_acc: 0.8020\n",
      "Epoch 71/100\n",
      "100/100 [==============================] - 41s 405ms/step - loss: 0.4202 - acc: 0.8005 - val_loss: 0.4371 - val_acc: 0.7980\n",
      "Epoch 72/100\n",
      "100/100 [==============================] - 41s 405ms/step - loss: 0.4333 - acc: 0.7975 - val_loss: 0.4126 - val_acc: 0.8180\n",
      "Epoch 73/100\n",
      "100/100 [==============================] - 41s 408ms/step - loss: 0.4242 - acc: 0.8060 - val_loss: 0.4151 - val_acc: 0.8140\n",
      "Epoch 74/100\n",
      "100/100 [==============================] - 41s 411ms/step - loss: 0.4171 - acc: 0.8085 - val_loss: 0.4510 - val_acc: 0.8060\n",
      "Epoch 75/100\n",
      "100/100 [==============================] - 44s 441ms/step - loss: 0.4130 - acc: 0.8090 - val_loss: 0.4522 - val_acc: 0.7920\n",
      "Epoch 76/100\n",
      "100/100 [==============================] - 41s 414ms/step - loss: 0.4177 - acc: 0.8060 - val_loss: 0.4218 - val_acc: 0.8060\n",
      "Epoch 77/100\n",
      "100/100 [==============================] - 41s 406ms/step - loss: 0.4160 - acc: 0.8020 - val_loss: 0.5086 - val_acc: 0.7830\n"
     ]
    }
   ],
   "source": [
    "checkpoint_cb = keras.callbacks.ModelCheckpoint(\"early_stop_model_aug.h5\",\n",
    "                                                save_best_only=True)\n",
    "\n",
    "early_stopping_cb = keras.callbacks.EarlyStopping(patience=10, restore_best_weights=True)\n",
    "\n",
    "history= model.fit_generator(\n",
    "        train_generator,\n",
    "        steps_per_epoch=100,\n",
    "        epochs=100,\n",
    "        validation_data=validation_generator,\n",
    "        validation_steps=50,\n",
    "        callbacks=[checkpoint_cb, early_stopping_cb])"
   ]
  },
  {
   "cell_type": "code",
   "execution_count": 24,
   "metadata": {},
   "outputs": [
    {
     "data": {
      "image/png": "[encoded data removed]",
      "text/plain": [
       "<Figure size 576x360 with 1 Axes>"
      ]
     },
     "metadata": {
      "needs_background": "light"
     },
     "output_type": "display_data"
    }
   ],
   "source": [
    "pd.DataFrame(history.history).plot(figsize=(8,5))\n",
    "plt.grid(True)\n",
    "plt.gca().set_ylim(0,1)\n",
    "plt.show()"
   ]
  },
  {
   "cell_type": "code",
   "execution_count": 23,
   "metadata": {},
   "outputs": [
    {
     "data": {
      "text/plain": [
       "[0.4516581892967224, 0.7900000214576721]"
      ]
     },
     "execution_count": 23,
     "metadata": {},
     "output_type": "execute_result"
    }
   ],
   "source": [
    "model1= keras.models.load_model('early_stop_model_aug.h5')\n",
    "model1.evaluate_generator(test_generator, steps=50)"
   ]
  },
  {
   "cell_type": "code",
   "execution_count": 25,
   "metadata": {},
   "outputs": [],
   "source": [
    "K.clear_session()\n",
    "del model"
   ]
  },
  {
   "cell_type": "markdown",
   "metadata": {},
   "source": [
    "# Transfer Learning VGG64"
   ]
  },
  {
   "cell_type": "code",
   "execution_count": 7,
   "metadata": {},
   "outputs": [
    {
     "name": "stdout",
     "output_type": "stream",
     "text": [
      "Found 2000 images belonging to 2 classes.\n",
      "Found 1000 images belonging to 2 classes.\n"
     ]
    }
   ],
   "source": [
    "train_datagen= ImageDataGenerator(rescale=1./255,\n",
    "                                 rotation_range=40,\n",
    "                                 width_shift_range=0.2,\n",
    "                                 height_shift_range=0.2,\n",
    "                                 shear_range=0.2,\n",
    "                                 zoom_range=0.2,\n",
    "                                 horizontal_flip= True,)\n",
    "\n",
    "test_datagen= ImageDataGenerator(rescale=1./255)\n",
    "\n",
    "train_generator = train_datagen.flow_from_directory(\n",
    "        train_dir,\n",
    "        target_size= (150, 150),\n",
    "        batch_size= 20,\n",
    "        class_mode='binary')\n",
    "\n",
    "validation_generator = test_datagen.flow_from_directory(\n",
    "        validation_dir,\n",
    "        target_size= (150, 150),\n",
    "        batch_size= 20,\n",
    "        class_mode='binary')\n"
   ]
  },
  {
   "cell_type": "code",
   "execution_count": 8,
   "metadata": {},
   "outputs": [],
   "source": [
    "from tensorflow.keras.applications import VGG16"
   ]
  },
  {
   "cell_type": "code",
   "execution_count": 9,
   "metadata": {},
   "outputs": [],
   "source": [
    "conv_base= VGG16(weights='imagenet',\n",
    "                include_top=False,\n",
    "                input_shape=(150, 150, 3))\n"
   ]
  },
  {
   "cell_type": "code",
   "execution_count": 10,
   "metadata": {},
   "outputs": [
    {
     "name": "stdout",
     "output_type": "stream",
     "text": [
      "Model: \"vgg16\"\n",
      "_________________________________________________________________\n",
      "Layer (type)                 Output Shape              Param #   \n",
      "=================================================================\n",
      "input_1 (InputLayer)         [(None, 150, 150, 3)]     0         \n",
      "_________________________________________________________________\n",
      "block1_conv1 (Conv2D)        (None, 150, 150, 64)      1792      \n",
      "_________________________________________________________________\n",
      "block1_conv2 (Conv2D)        (None, 150, 150, 64)      36928     \n",
      "_________________________________________________________________\n",
      "block1_pool (MaxPooling2D)   (None, 75, 75, 64)        0         \n",
      "_________________________________________________________________\n",
      "block2_conv1 (Conv2D)        (None, 75, 75, 128)       73856     \n",
      "_________________________________________________________________\n",
      "block2_conv2 (Conv2D)        (None, 75, 75, 128)       147584    \n",
      "_________________________________________________________________\n",
      "block2_pool (MaxPooling2D)   (None, 37, 37, 128)       0         \n",
      "_________________________________________________________________\n",
      "block3_conv1 (Conv2D)        (None, 37, 37, 256)       295168    \n",
      "_________________________________________________________________\n",
      "block3_conv2 (Conv2D)        (None, 37, 37, 256)       590080    \n",
      "_________________________________________________________________\n",
      "block3_conv3 (Conv2D)        (None, 37, 37, 256)       590080    \n",
      "_________________________________________________________________\n",
      "block3_pool (MaxPooling2D)   (None, 18, 18, 256)       0         \n",
      "_________________________________________________________________\n",
      "block4_conv1 (Conv2D)        (None, 18, 18, 512)       1180160   \n",
      "_________________________________________________________________\n",
      "block4_conv2 (Conv2D)        (None, 18, 18, 512)       2359808   \n",
      "_________________________________________________________________\n",
      "block4_conv3 (Conv2D)        (None, 18, 18, 512)       2359808   \n",
      "_________________________________________________________________\n",
      "block4_pool (MaxPooling2D)   (None, 9, 9, 512)         0         \n",
      "_________________________________________________________________\n",
      "block5_conv1 (Conv2D)        (None, 9, 9, 512)         2359808   \n",
      "_________________________________________________________________\n",
      "block5_conv2 (Conv2D)        (None, 9, 9, 512)         2359808   \n",
      "_________________________________________________________________\n",
      "block5_conv3 (Conv2D)        (None, 9, 9, 512)         2359808   \n",
      "_________________________________________________________________\n",
      "block5_pool (MaxPooling2D)   (None, 4, 4, 512)         0         \n",
      "=================================================================\n",
      "Total params: 14,714,688\n",
      "Trainable params: 14,714,688\n",
      "Non-trainable params: 0\n",
      "_________________________________________________________________\n"
     ]
    }
   ],
   "source": [
    "conv_base.summary()"
   ]
  },
  {
   "cell_type": "code",
   "execution_count": 13,
   "metadata": {},
   "outputs": [],
   "source": [
    "model= models.Sequential()\n",
    "\n",
    "model.add(conv_base)\n",
    "\n",
    "model.add(layers.Flatten())\n",
    "model.add(layers.Dropout(0.5))\n",
    "\n",
    "model.add(layers.Dense(256, activation='relu'))\n",
    "model.add(layers.Dense(1, activation='sigmoid'))\n"
   ]
  },
  {
   "cell_type": "code",
   "execution_count": 14,
   "metadata": {},
   "outputs": [
    {
     "name": "stdout",
     "output_type": "stream",
     "text": [
      "Model: \"sequential\"\n",
      "_________________________________________________________________\n",
      "Layer (type)                 Output Shape              Param #   \n",
      "=================================================================\n",
      "vgg16 (Functional)           (None, 4, 4, 512)         14714688  \n",
      "_________________________________________________________________\n",
      "flatten (Flatten)            (None, 8192)              0         \n",
      "_________________________________________________________________\n",
      "dropout (Dropout)            (None, 8192)              0         \n",
      "_________________________________________________________________\n",
      "dense (Dense)                (None, 256)               2097408   \n",
      "_________________________________________________________________\n",
      "dense_1 (Dense)              (None, 1)                 257       \n",
      "=================================================================\n",
      "Total params: 16,812,353\n",
      "Trainable params: 16,812,353\n",
      "Non-trainable params: 0\n",
      "_________________________________________________________________\n"
     ]
    }
   ],
   "source": [
    "model.summary()"
   ]
  },
  {
   "cell_type": "code",
   "execution_count": 17,
   "metadata": {},
   "outputs": [],
   "source": [
    "model.compile(loss='binary_crossentropy', optimizer=optimizers.RMSprop(lr=1e-5),\n",
    "              metrics=['acc'])\n",
    "\n",
    "checkpoint_cb = keras.callbacks.ModelCheckpoint(\"early_stop_model_trf.h5\",\n",
    "                                                save_best_only=True)\n",
    "\n",
    "early_stopping_cb = keras.callbacks.EarlyStopping(patience=10, \n",
    "                                                  restore_best_weights=True)\n",
    "\n"
   ]
  },
  {
   "cell_type": "code",
   "execution_count": 18,
   "metadata": {},
   "outputs": [
    {
     "name": "stdout",
     "output_type": "stream",
     "text": [
      "WARNING:tensorflow:From <ipython-input-18-50977742174c>:7: Model.fit_generator (from tensorflow.python.keras.engine.training) is deprecated and will be removed in a future version.\n",
      "Instructions for updating:\n",
      "Please use Model.fit, which supports generators.\n",
      "Epoch 1/30\n",
      "  2/100 [..............................] - ETA: 19s - loss: 0.8341 - acc: 0.4750WARNING:tensorflow:Callbacks method `on_train_batch_end` is slow compared to the batch time (batch time: 0.1307s vs `on_train_batch_end` time: 0.2613s). Check your callbacks.\n",
      "100/100 [==============================] - 46s 458ms/step - loss: 0.6313 - acc: 0.6415 - val_loss: 0.4279 - val_acc: 0.7950\n",
      "Epoch 2/30\n",
      "100/100 [==============================] - 46s 459ms/step - loss: 0.4297 - acc: 0.7930 - val_loss: 0.2316 - val_acc: 0.9120\n",
      "Epoch 3/30\n",
      "100/100 [==============================] - 46s 460ms/step - loss: 0.3208 - acc: 0.8680 - val_loss: 0.2262 - val_acc: 0.9190\n",
      "Epoch 4/30\n",
      "100/100 [==============================] - 46s 457ms/step - loss: 0.2517 - acc: 0.8860 - val_loss: 0.6263 - val_acc: 0.8100\n",
      "Epoch 5/30\n",
      "100/100 [==============================] - 47s 465ms/step - loss: 0.2209 - acc: 0.9085 - val_loss: 0.1204 - val_acc: 0.9510\n",
      "Epoch 6/30\n",
      "100/100 [==============================] - 46s 461ms/step - loss: 0.1930 - acc: 0.9225 - val_loss: 0.3003 - val_acc: 0.9040\n",
      "Epoch 7/30\n",
      "100/100 [==============================] - 46s 463ms/step - loss: 0.1859 - acc: 0.9245 - val_loss: 0.1761 - val_acc: 0.9390\n",
      "Epoch 8/30\n",
      "100/100 [==============================] - 47s 468ms/step - loss: 0.1561 - acc: 0.9395 - val_loss: 0.1148 - val_acc: 0.9590\n",
      "Epoch 9/30\n",
      "100/100 [==============================] - 47s 465ms/step - loss: 0.1366 - acc: 0.9445 - val_loss: 0.1493 - val_acc: 0.9510\n",
      "Epoch 10/30\n",
      "100/100 [==============================] - 47s 467ms/step - loss: 0.1257 - acc: 0.9460 - val_loss: 0.1305 - val_acc: 0.9580\n",
      "Epoch 11/30\n",
      "100/100 [==============================] - 47s 468ms/step - loss: 0.1166 - acc: 0.9530 - val_loss: 0.1840 - val_acc: 0.9460\n",
      "Epoch 12/30\n",
      "100/100 [==============================] - 48s 475ms/step - loss: 0.1121 - acc: 0.9570 - val_loss: 0.0889 - val_acc: 0.9710\n",
      "Epoch 13/30\n",
      "100/100 [==============================] - 47s 469ms/step - loss: 0.0933 - acc: 0.9665 - val_loss: 0.1014 - val_acc: 0.9650\n",
      "Epoch 14/30\n",
      "100/100 [==============================] - 47s 469ms/step - loss: 0.0804 - acc: 0.9695 - val_loss: 0.1069 - val_acc: 0.9690\n",
      "Epoch 15/30\n",
      "100/100 [==============================] - 47s 471ms/step - loss: 0.0892 - acc: 0.9645 - val_loss: 0.1119 - val_acc: 0.9660\n",
      "Epoch 16/30\n",
      "100/100 [==============================] - 47s 471ms/step - loss: 0.0719 - acc: 0.9750 - val_loss: 0.1020 - val_acc: 0.9700\n",
      "Epoch 17/30\n",
      "100/100 [==============================] - 47s 471ms/step - loss: 0.0754 - acc: 0.9705 - val_loss: 0.1392 - val_acc: 0.9670\n",
      "Epoch 18/30\n",
      "100/100 [==============================] - 47s 471ms/step - loss: 0.0684 - acc: 0.9745 - val_loss: 0.2804 - val_acc: 0.9250\n",
      "Epoch 19/30\n",
      "100/100 [==============================] - 47s 471ms/step - loss: 0.0650 - acc: 0.9765 - val_loss: 0.1016 - val_acc: 0.9690\n",
      "Epoch 20/30\n",
      "100/100 [==============================] - 47s 472ms/step - loss: 0.0627 - acc: 0.9770 - val_loss: 0.1215 - val_acc: 0.9680\n",
      "Epoch 21/30\n",
      "100/100 [==============================] - 47s 471ms/step - loss: 0.0562 - acc: 0.9775 - val_loss: 0.1152 - val_acc: 0.9690\n",
      "Epoch 22/30\n",
      "100/100 [==============================] - 47s 475ms/step - loss: 0.0697 - acc: 0.9755 - val_loss: 0.1009 - val_acc: 0.9690\n"
     ]
    }
   ],
   "source": [
    "history= model.fit_generator(\n",
    "        train_generator,\n",
    "        steps_per_epoch=100,\n",
    "        epochs=30,\n",
    "        validation_data=validation_generator,\n",
    "        validation_steps=50,\n",
    "        callbacks=[checkpoint_cb, early_stopping_cb])"
   ]
  },
  {
   "cell_type": "code",
   "execution_count": 19,
   "metadata": {},
   "outputs": [
    {
     "data": {
      "image/png": "[encoded data removed]",
      "text/plain": [
       "<Figure size 576x360 with 1 Axes>"
      ]
     },
     "metadata": {
      "needs_background": "light"
     },
     "output_type": "display_data"
    }
   ],
   "source": [
    "pd.DataFrame(history.history).plot(figsize=(8,5))\n",
    "plt.grid(True)\n",
    "plt.gca().set_ylim(0,1)\n",
    "plt.show()"
   ]
  },
  {
   "cell_type": "code",
   "execution_count": 5,
   "metadata": {},
   "outputs": [],
   "source": [
    "model= keras.models.load_model('early_stop_model_trf.h5')"
   ]
  },
  {
   "cell_type": "code",
   "execution_count": 7,
   "metadata": {},
   "outputs": [
    {
     "name": "stdout",
     "output_type": "stream",
     "text": [
      "Found 1000 images belonging to 2 classes.\n"
     ]
    }
   ],
   "source": [
    "test_datagen= ImageDataGenerator(rescale=1./255)\n",
    "\n",
    "test_generator = test_datagen.flow_from_directory(\n",
    "        test_dir,\n",
    "        target_size= (150, 150),\n",
    "        batch_size= 20,\n",
    "        class_mode='binary')"
   ]
  },
  {
   "cell_type": "code",
   "execution_count": 8,
   "metadata": {},
   "outputs": [
    {
     "name": "stdout",
     "output_type": "stream",
     "text": [
      "WARNING:tensorflow:From <ipython-input-8-83d4f6cbdea5>:1: Model.evaluate_generator (from tensorflow.python.keras.engine.training) is deprecated and will be removed in a future version.\n",
      "Instructions for updating:\n",
      "Please use Model.evaluate, which supports generators.\n"
     ]
    },
    {
     "data": {
      "text/plain": [
       "[0.09295416623353958, 0.9700000286102295]"
      ]
     },
     "execution_count": 8,
     "metadata": {},
     "output_type": "execute_result"
    }
   ],
   "source": [
    "model.evaluate_generator(test_generator, steps=50)"
   ]
  },
  {
   "cell_type": "markdown",
   "metadata": {},
   "source": [
    "# Hyperparameters tuning with Keras tuner"
   ]
  },
  {
   "cell_type": "code",
   "execution_count": 15,
   "metadata": {},
   "outputs": [
    {
     "name": "stdout",
     "output_type": "stream",
     "text": [
      "Note: you may need to restart the kernel to use updated packages.\n"
     ]
    }
   ],
   "source": [
    "pip install -q -U keras-tuner"
   ]
  },
  {
   "cell_type": "code",
   "execution_count": 7,
   "metadata": {},
   "outputs": [],
   "source": []
  },
  {
   "cell_type": "code",
   "execution_count": 9,
   "metadata": {},
   "outputs": [],
   "source": [
    "def model_builder(hp):\n",
    "    model= models.Sequential()\n",
    "\n",
    "    model.add(layers.Conv2D(32, (3, 3), activation='relu', input_shape= (150, 150, 3)))\n",
    "    model.add(layers.MaxPooling2D((2, 2)))\n",
    "\n",
    "    model.add(layers.Conv2D(64, (3, 3), activation='relu'))\n",
    "    model.add(layers.MaxPooling2D((2, 2)))\n",
    "\n",
    "    model.add(layers.Conv2D(128, (3, 3), activation='relu'))\n",
    "    model.add(layers.MaxPooling2D((2, 2)))\n",
    "\n",
    "    model.add(layers.Conv2D(128, (3, 3), activation='relu'))\n",
    "    model.add(layers.MaxPooling2D((2, 2)))\n",
    "\n",
    "    model.add(layers.Flatten())\n",
    "    model.add(layers.Dropout(0.5))\n",
    "\n",
    "    hp_units = hp.Int('units', min_value=32, max_value=512, step=32)\n",
    "    model.add(keras.layers.Dense(units=hp_units, activation='relu'))\n",
    "    model.add(layers.Dense(1, activation='sigmoid'))\n",
    "    \n",
    "    \n",
    "    hp_learning_rate = hp.Choice('learning_rate', values=[1e-2, 1e-3, 1e-4])\n",
    "    model.compile(loss='binary_crossentropy', optimizer=optimizers.RMSprop(lr=hp_learning_rate), metrics=['acc'])\n",
    "\n",
    "    return model\n"
   ]
  },
  {
   "cell_type": "code",
   "execution_count": 14,
   "metadata": {},
   "outputs": [
    {
     "name": "stdout",
     "output_type": "stream",
     "text": [
      "INFO:tensorflow:Reloading Oracle from existing project .\\untitled_project\\oracle.json\n"
     ]
    }
   ],
   "source": [
    "import kerastuner as kt\n",
    "\n",
    "tuner = kt.Hyperband(\n",
    "    model_builder,\n",
    "    objective='val_acc',\n",
    "    max_epochs=30,\n",
    "    hyperband_iterations=2)"
   ]
  },
  {
   "cell_type": "code",
   "execution_count": 15,
   "metadata": {},
   "outputs": [
    {
     "name": "stdout",
     "output_type": "stream",
     "text": [
      "Trial 60 Complete [00h 01m 35s]\n",
      "val_acc: 0.6000000238418579\n",
      "\n",
      "Best val_acc So Far: 0.6669999957084656\n",
      "Total elapsed time: 00h 59m 21s\n",
      "INFO:tensorflow:Oracle triggered exit\n"
     ]
    }
   ],
   "source": [
    "tuner.search(train_generator,\n",
    "             validation_data=validation_generator,\n",
    "             epochs=30,\n",
    "             callbacks=[tf.keras.callbacks.EarlyStopping(patience=1)])"
   ]
  },
  {
   "cell_type": "code",
   "execution_count": 16,
   "metadata": {},
   "outputs": [],
   "source": [
    "best_model = tuner.get_best_models(1)[0]"
   ]
  },
  {
   "cell_type": "code",
   "execution_count": 19,
   "metadata": {},
   "outputs": [
    {
     "name": "stdout",
     "output_type": "stream",
     "text": [
      "Epoch 1/50\n",
      "100/100 [==============================] - 23s 233ms/step - loss: 0.5098 - acc: 0.7620 - val_loss: 0.4833 - val_acc: 0.7680\n",
      "Epoch 2/50\n",
      "100/100 [==============================] - 23s 232ms/step - loss: 0.5065 - acc: 0.7615 - val_loss: 0.4356 - val_acc: 0.7950\n",
      "Epoch 3/50\n",
      "100/100 [==============================] - 23s 230ms/step - loss: 0.5013 - acc: 0.7595 - val_loss: 0.4675 - val_acc: 0.7900\n",
      "Epoch 4/50\n",
      "100/100 [==============================] - 24s 236ms/step - loss: 0.4940 - acc: 0.7640 - val_loss: 0.4467 - val_acc: 0.7810l\n",
      "Epoch 5/50\n",
      "100/100 [==============================] - 23s 234ms/step - loss: 0.4866 - acc: 0.7645 - val_loss: 0.4882 - val_acc: 0.7570\n",
      "Epoch 6/50\n",
      "100/100 [==============================] - 24s 236ms/step - loss: 0.4982 - acc: 0.7655 - val_loss: 0.4811 - val_acc: 0.7910\n",
      "Epoch 7/50\n",
      "100/100 [==============================] - 24s 239ms/step - loss: 0.4929 - acc: 0.7715 - val_loss: 0.4473 - val_acc: 0.7940\n",
      "Epoch 8/50\n",
      "100/100 [==============================] - 24s 243ms/step - loss: 0.4736 - acc: 0.7820 - val_loss: 0.4902 - val_acc: 0.7780\n",
      "Epoch 9/50\n",
      "100/100 [==============================] - 24s 240ms/step - loss: 0.4738 - acc: 0.7785 - val_loss: 0.4563 - val_acc: 0.7930\n",
      "Epoch 10/50\n",
      "100/100 [==============================] - 24s 239ms/step - loss: 0.4864 - acc: 0.7630 - val_loss: 0.4051 - val_acc: 0.8220\n",
      "Epoch 11/50\n",
      "100/100 [==============================] - 24s 237ms/step - loss: 0.4652 - acc: 0.7865 - val_loss: 0.4209 - val_acc: 0.8020\n",
      "Epoch 12/50\n",
      "100/100 [==============================] - 24s 241ms/step - loss: 0.4710 - acc: 0.7705 - val_loss: 0.4237 - val_acc: 0.8060\n",
      "Epoch 13/50\n",
      "100/100 [==============================] - 23s 229ms/step - loss: 0.4551 - acc: 0.7965 - val_loss: 0.5149 - val_acc: 0.7730\n",
      "Epoch 14/50\n",
      "100/100 [==============================] - 23s 230ms/step - loss: 0.4609 - acc: 0.7885 - val_loss: 0.5578 - val_acc: 0.7160\n",
      "Epoch 15/50\n",
      "100/100 [==============================] - 23s 234ms/step - loss: 0.4562 - acc: 0.7835 - val_loss: 0.3866 - val_acc: 0.8260\n",
      "Epoch 16/50\n",
      "100/100 [==============================] - 23s 234ms/step - loss: 0.4671 - acc: 0.7855 - val_loss: 0.4075 - val_acc: 0.8150\n",
      "Epoch 17/50\n",
      "100/100 [==============================] - 23s 226ms/step - loss: 0.4480 - acc: 0.7960 - val_loss: 0.4059 - val_acc: 0.8220\n",
      "Epoch 18/50\n",
      "100/100 [==============================] - 23s 226ms/step - loss: 0.4692 - acc: 0.7890 - val_loss: 0.4050 - val_acc: 0.8160\n",
      "Epoch 19/50\n",
      "100/100 [==============================] - 23s 227ms/step - loss: 0.4297 - acc: 0.8105 - val_loss: 0.4402 - val_acc: 0.8120\n",
      "Epoch 20/50\n",
      "100/100 [==============================] - 23s 226ms/step - loss: 0.4620 - acc: 0.7955 - val_loss: 0.3767 - val_acc: 0.8280\n",
      "Epoch 21/50\n",
      "100/100 [==============================] - 23s 234ms/step - loss: 0.4531 - acc: 0.8025 - val_loss: 0.4197 - val_acc: 0.8070\n",
      "Epoch 22/50\n",
      "100/100 [==============================] - 23s 230ms/step - loss: 0.4546 - acc: 0.8080 - val_loss: 0.4848 - val_acc: 0.7650\n",
      "Epoch 23/50\n",
      "100/100 [==============================] - 23s 230ms/step - loss: 0.4449 - acc: 0.8045 - val_loss: 0.5626 - val_acc: 0.7850\n",
      "Epoch 24/50\n",
      "100/100 [==============================] - 23s 225ms/step - loss: 0.4318 - acc: 0.8210 - val_loss: 0.5356 - val_acc: 0.7680\n",
      "Epoch 25/50\n",
      "100/100 [==============================] - 23s 233ms/step - loss: 0.4250 - acc: 0.8085 - val_loss: 0.3935 - val_acc: 0.8140\n",
      "Epoch 26/50\n",
      "100/100 [==============================] - 23s 233ms/step - loss: 0.4251 - acc: 0.7975 - val_loss: 0.4166 - val_acc: 0.8210\n",
      "Epoch 27/50\n",
      "100/100 [==============================] - 23s 231ms/step - loss: 0.4155 - acc: 0.8090 - val_loss: 0.4971 - val_acc: 0.7810\n",
      "Epoch 28/50\n",
      "100/100 [==============================] - 23s 234ms/step - loss: 0.4313 - acc: 0.8105 - val_loss: 0.4477 - val_acc: 0.7980\n",
      "Epoch 29/50\n",
      "100/100 [==============================] - 23s 234ms/step - loss: 0.4388 - acc: 0.8160 - val_loss: 0.5720 - val_acc: 0.7520\n",
      "Epoch 30/50\n",
      "100/100 [==============================] - 23s 235ms/step - loss: 0.4370 - acc: 0.8040 - val_loss: 0.4760 - val_acc: 0.7930\n"
     ]
    }
   ],
   "source": [
    "checkpoint_cb = keras.callbacks.ModelCheckpoint(\"keras_tuner_model.h5\",\n",
    "                                                save_best_only=True)\n",
    "\n",
    "early_stopping_cb = keras.callbacks.EarlyStopping(patience=10, \n",
    "                                                  restore_best_weights=True)\n",
    "\n",
    "history= best_model.fit_generator(\n",
    "        train_generator,\n",
    "        steps_per_epoch=100,\n",
    "        epochs=50,\n",
    "        validation_data=validation_generator,\n",
    "        validation_steps=50,\n",
    "        callbacks=[checkpoint_cb, early_stopping_cb])"
   ]
  },
  {
   "cell_type": "code",
   "execution_count": 24,
   "metadata": {},
   "outputs": [
    {
     "data": {
      "image/png": "[encoded data removed]",
      "text/plain": [
       "<Figure size 576x360 with 1 Axes>"
      ]
     },
     "metadata": {
      "needs_background": "light"
     },
     "output_type": "display_data"
    }
   ],
   "source": [
    "pd.DataFrame(history.history).plot(figsize=(8,5))\n",
    "plt.grid(True)\n",
    "plt.gca().set_ylim(0,1)\n",
    "plt.show()"
   ]
  },
  {
   "cell_type": "code",
   "execution_count": 20,
   "metadata": {},
   "outputs": [
    {
     "name": "stdout",
     "output_type": "stream",
     "text": [
      "WARNING:tensorflow:Error in loading the saved optimizer state. As a result, your model is starting with a freshly initialized optimizer.\n"
     ]
    }
   ],
   "source": [
    "model= keras.models.load_model('keras_tuner_model.h5')"
   ]
  },
  {
   "cell_type": "code",
   "execution_count": 21,
   "metadata": {},
   "outputs": [
    {
     "name": "stdout",
     "output_type": "stream",
     "text": [
      "Found 1000 images belonging to 2 classes.\n"
     ]
    }
   ],
   "source": [
    "test_datagen= ImageDataGenerator(rescale=1./255)\n",
    "\n",
    "test_generator = test_datagen.flow_from_directory(\n",
    "        test_dir,\n",
    "        target_size= (150, 150),\n",
    "        batch_size= 20,\n",
    "        class_mode='binary')"
   ]
  },
  {
   "cell_type": "code",
   "execution_count": 22,
   "metadata": {},
   "outputs": [
    {
     "name": "stdout",
     "output_type": "stream",
     "text": [
      "WARNING:tensorflow:From <ipython-input-22-83d4f6cbdea5>:1: Model.evaluate_generator (from tensorflow.python.keras.engine.training) is deprecated and will be removed in a future version.\n",
      "Instructions for updating:\n",
      "Please use Model.evaluate, which supports generators.\n"
     ]
    },
    {
     "data": {
      "text/plain": [
       "[0.4386897683143616, 0.8209999799728394]"
      ]
     },
     "execution_count": 22,
     "metadata": {},
     "output_type": "execute_result"
    }
   ],
   "source": [
    "model.evaluate_generator(test_generator, steps=50)"
   ]
  },
  {
   "cell_type": "code",
   "execution_count": null,
   "metadata": {},
   "outputs": [],
   "source": []
  }
 ],
 "metadata": {
  "kernelspec": {
   "display_name": "Python 3",
   "language": "python",
   "name": "python3"
  },
  "language_info": {
   "codemirror_mode": {
    "name": "ipython",
    "version": 3
   },
   "file_extension": ".py",
   "mimetype": "text/x-python",
   "name": "python",
   "nbconvert_exporter": "python",
   "pygments_lexer": "ipython3",
   "version": "3.7.4"
  }
 },
 "nbformat": 4,
 "nbformat_minor": 2
}
